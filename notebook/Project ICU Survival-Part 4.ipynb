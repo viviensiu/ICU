{
 "cells": [
  {
   "attachments": {},
   "cell_type": "markdown",
   "metadata": {},
   "source": [
    "# Objective for Part 4\n",
    "\n",
    "In Part 1 - 3, we performed data cleaning, EDA and feature engineering which are essential before the data set is ready for ML Model training and testing.\n",
    "\n",
    "In Part 4, the dataset will be trained in 5 different types of ML Models to find the suitable model for ICU mortality rate prediction."
   ]
  },
  {
   "cell_type": "code",
   "execution_count": 1,
   "metadata": {},
   "outputs": [],
   "source": [
    "# Step 1: Import pandas\n",
    "import pandas as pd\n",
    "\n",
    "#ML model libraries\n",
    "from sklearn.model_selection import train_test_split\n",
    "from sklearn.dummy import DummyClassifier\n",
    "from sklearn.linear_model import LogisticRegression\n",
    "from sklearn.tree import DecisionTreeClassifier\n",
    "from sklearn.ensemble import RandomForestClassifier\n",
    "from sklearn.neighbors import KNeighborsClassifier\n",
    "\n",
    "#ML scoring libraries\n",
    "from sklearn.metrics import roc_auc_score, confusion_matrix"
   ]
  },
  {
   "cell_type": "code",
   "execution_count": 2,
   "metadata": {},
   "outputs": [],
   "source": [
    "# Step 2: Read your CSV into a DataFrame\n",
    "df = pd.read_csv(r\"data/data_part3.csv\", index_col=False)"
   ]
  },
  {
   "cell_type": "code",
   "execution_count": 3,
   "metadata": {},
   "outputs": [],
   "source": [
    "# Step 3a: Prepare your independent variables\n",
    "y = df[['hospital_death']]\n",
    "\n",
    "# Step 3b: Prepare your dependent variables\n",
    "X = df.drop(columns=['hospital_death'], axis=1)"
   ]
  },
  {
   "cell_type": "code",
   "execution_count": 4,
   "metadata": {},
   "outputs": [],
   "source": [
    "# Step 4: Import the machine learning libraries"
   ]
  },
  {
   "cell_type": "code",
   "execution_count": 5,
   "metadata": {},
   "outputs": [],
   "source": [
    "# Step 5: Split your data\n",
    "X_train, X_test, y_train, y_test = train_test_split(X,y,stratify=y)"
   ]
  },
  {
   "cell_type": "code",
   "execution_count": 6,
   "metadata": {},
   "outputs": [
    {
     "name": "stderr",
     "output_type": "stream",
     "text": [
      "/opt/anaconda3/lib/python3.8/site-packages/sklearn/dummy.py:131: FutureWarning: The default value of strategy will change from stratified to prior in 0.24.\n",
      "  warnings.warn(\"The default value of strategy will change from \"\n"
     ]
    }
   ],
   "source": [
    "# Step 6a: Declare a variable to store the model\n",
    "dummy_clf = DummyClassifier()\n",
    "\n",
    "# Step 6b: Fit your train dataset\n",
    "dummy_clf.fit(X_train, y_train)\n",
    "\n",
    "# Step 6c: Declare a variable and store your predictions that you make with your model using X test data\n",
    "dummy_pred = dummy_clf.predict(X_test)"
   ]
  },
  {
   "cell_type": "code",
   "execution_count": 7,
   "metadata": {},
   "outputs": [],
   "source": [
    "# Step 7: Repeat Step 6 with other models\n",
    "#LogisticRegression\n",
    "logistic_clf = LogisticRegression(max_iter=10000)\n",
    "logistic_clf.fit(X_train, y_train.values.ravel())\n",
    "logistic_pred = logistic_clf.predict(X_test)"
   ]
  },
  {
   "cell_type": "code",
   "execution_count": 8,
   "metadata": {},
   "outputs": [],
   "source": [
    "# Step 7: Repeat Step 6 with other models\n",
    "#DecisionTreeClassifier\n",
    "decisiontree_clf = DecisionTreeClassifier()\n",
    "decisiontree_clf.fit(X_train, y_train)\n",
    "decisiontree_pred = decisiontree_clf.predict(X_test)"
   ]
  },
  {
   "cell_type": "code",
   "execution_count": 9,
   "metadata": {},
   "outputs": [],
   "source": [
    "# Step 7: Repeat Step 6 with other models\n",
    "#RandomForestClassifier\n",
    "rf_clf = RandomForestClassifier()\n",
    "rf_clf.fit(X_train, y_train.values.ravel())\n",
    "rf_pred = rf_clf.predict(X_test)"
   ]
  },
  {
   "cell_type": "code",
   "execution_count": 10,
   "metadata": {},
   "outputs": [],
   "source": [
    "# Step 7: Repeat Step 6 with other models\n",
    "#KNeighborsClassifier\n",
    "kn_clf = KNeighborsClassifier()\n",
    "kn_clf.fit(X_train, y_train.values.ravel())\n",
    "kn_pred = kn_clf.predict(X_test)"
   ]
  },
  {
   "cell_type": "code",
   "execution_count": 11,
   "metadata": {},
   "outputs": [
    {
     "name": "stdout",
     "output_type": "stream",
     "text": [
      "DummyClassifier:\n",
      "\n",
      "0.5019843630304441\n",
      "[[17516  1512]\n",
      " [ 1571   143]]\n"
     ]
    }
   ],
   "source": [
    "# Step 8: Assess DummyClassifier model performance\n",
    "print(\"DummyClassifier:\\n\")\n",
    "print(roc_auc_score(y_test, dummy_pred))\n",
    "print(confusion_matrix(y_test, dummy_pred))"
   ]
  },
  {
   "cell_type": "code",
   "execution_count": 12,
   "metadata": {},
   "outputs": [],
   "source": [
    "# Step 9: Repeat the printing of AUC score and the confusion matrix for the other models"
   ]
  },
  {
   "cell_type": "code",
   "execution_count": 13,
   "metadata": {},
   "outputs": [
    {
     "name": "stdout",
     "output_type": "stream",
     "text": [
      "LogisticRegression:\n",
      "\n",
      "0.5004257681794979\n",
      "[[19022     6]\n",
      " [ 1712     2]]\n"
     ]
    }
   ],
   "source": [
    "# Step 8: Assess LogisticRegression model performance\n",
    "print(\"LogisticRegression:\\n\")\n",
    "print(roc_auc_score(y_test, logistic_pred))\n",
    "print(confusion_matrix(y_test, logistic_pred))"
   ]
  },
  {
   "cell_type": "code",
   "execution_count": 14,
   "metadata": {},
   "outputs": [
    {
     "name": "stdout",
     "output_type": "stream",
     "text": [
      "DecisionTreeClassifier:\n",
      "\n",
      "0.519674684411525\n",
      "[[17290  1738]\n",
      " [ 1490   224]]\n"
     ]
    }
   ],
   "source": [
    "# Step 8: Assess DecisionTreeClassifier model performance\n",
    "print(\"DecisionTreeClassifier:\\n\")\n",
    "print(roc_auc_score(y_test, decisiontree_pred))\n",
    "print(confusion_matrix(y_test, decisiontree_pred))"
   ]
  },
  {
   "cell_type": "code",
   "execution_count": 15,
   "metadata": {},
   "outputs": [
    {
     "name": "stdout",
     "output_type": "stream",
     "text": [
      "RandomForestClassifier:\n",
      "\n",
      "0.5013561357346258\n",
      "[[19013    15]\n",
      " [ 1708     6]]\n"
     ]
    }
   ],
   "source": [
    "# Step 8: Assess RandomForestClassifier model performance\n",
    "print(\"RandomForestClassifier:\\n\")\n",
    "print(roc_auc_score(y_test, rf_pred))\n",
    "print(confusion_matrix(y_test, rf_pred))"
   ]
  },
  {
   "cell_type": "code",
   "execution_count": 16,
   "metadata": {},
   "outputs": [
    {
     "name": "stdout",
     "output_type": "stream",
     "text": [
      "KNeighborsClassifier:\n",
      "\n",
      "0.5058979287172204\n",
      "[[18875   153]\n",
      " [ 1680    34]]\n"
     ]
    }
   ],
   "source": [
    "# Step 8: Assess KNeighborsClassifier model performance\n",
    "print(\"KNeighborsClassifier:\\n\")\n",
    "print(roc_auc_score(y_test, kn_pred))\n",
    "print(confusion_matrix(y_test, kn_pred))"
   ]
  }
 ],
 "metadata": {
  "kernelspec": {
   "display_name": "Python 3",
   "language": "python",
   "name": "python3"
  },
  "language_info": {
   "codemirror_mode": {
    "name": "ipython",
    "version": 3
   },
   "file_extension": ".py",
   "mimetype": "text/x-python",
   "name": "python",
   "nbconvert_exporter": "python",
   "pygments_lexer": "ipython3",
   "version": "3.8.3"
  }
 },
 "nbformat": 4,
 "nbformat_minor": 2
}
